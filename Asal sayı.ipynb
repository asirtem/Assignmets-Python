{
 "cells": [
  {
   "cell_type": "code",
   "execution_count": 3,
   "metadata": {},
   "outputs": [
    {
     "name": "stdout",
     "output_type": "stream",
     "text": [
      "Sayı giriniz: 21\n",
      "21  sayısı asal değildir.\n"
     ]
    }
   ],
   "source": [
    "sayac = 0\n",
    "\n",
    "sayi = int(input(\"Sayı giriniz: \"))\n",
    "\n",
    "for i in range(2, sayi):\n",
    "      if sayi % i == 0:\n",
    "            sayac+=1\n",
    "            break\n",
    "if(sayac!=0):\n",
    "      print(sayi, \" sayısı asal değildir.\")\n",
    "else:\n",
    "      print(sayi, \" sayısı asaldır.\")"
   ]
  },
  {
   "cell_type": "code",
   "execution_count": null,
   "metadata": {},
   "outputs": [],
   "source": []
  }
 ],
 "metadata": {
  "kernelspec": {
   "display_name": "Python 3",
   "language": "python",
   "name": "python3"
  },
  "language_info": {
   "codemirror_mode": {
    "name": "ipython",
    "version": 3
   },
   "file_extension": ".py",
   "mimetype": "text/x-python",
   "name": "python",
   "nbconvert_exporter": "python",
   "pygments_lexer": "ipython3",
   "version": "3.7.6"
  }
 },
 "nbformat": 4,
 "nbformat_minor": 4
}
