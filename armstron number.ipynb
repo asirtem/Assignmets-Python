{
 "cells": [
  {
   "cell_type": "code",
   "execution_count": null,
   "metadata": {},
   "outputs": [],
   "source": [
    "sayi = int(input(\"Pozitif bir tamsayı giriniz: \"))\n",
    "basamak = str(sayi)\n",
    "toplam = 0\n",
    "\n",
    "for x in basamak:\n",
    "    \n",
    "    rakam = int(x) ** len(basamak)\n",
    "    toplam += rakam\n",
    "    \n",
    "if sayi == toplam :\n",
    "    print(\"Bu bir armstrong sayısıdır.\")\n",
    "else:\n",
    "    print(\"bu bir armstrong sayısı değildir!\")"
   ]
  }
 ],
 "metadata": {
  "kernelspec": {
   "display_name": "Python 3",
   "language": "python",
   "name": "python3"
  },
  "language_info": {
   "codemirror_mode": {
    "name": "ipython",
    "version": 3
   },
   "file_extension": ".py",
   "mimetype": "text/x-python",
   "name": "python",
   "nbconvert_exporter": "python",
   "pygments_lexer": "ipython3",
   "version": "3.7.6"
  }
 },
 "nbformat": 4,
 "nbformat_minor": 4
}
